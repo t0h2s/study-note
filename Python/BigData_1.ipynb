{
 "cells": [
  {
   "cell_type": "code",
   "execution_count": 4,
   "id": "d9ad7ce9-1b2d-4cc8-80c9-12d473f1ceab",
   "metadata": {},
   "outputs": [
    {
     "ename": "SyntaxError",
     "evalue": "invalid syntax (668838689.py, line 1)",
     "output_type": "error",
     "traceback": [
      "\u001b[1;36m  Cell \u001b[1;32mIn[4], line 1\u001b[1;36m\u001b[0m\n\u001b[1;33m    def=5\u001b[0m\n\u001b[1;37m       ^\u001b[0m\n\u001b[1;31mSyntaxError\u001b[0m\u001b[1;31m:\u001b[0m invalid syntax\n"
     ]
    }
   ],
   "source": [
    "# 예약어 def를 변수명으로 사용할 경우\n",
    "\n",
    "def=5\n",
    "\n",
    "print(def)"
   ]
  },
  {
   "cell_type": "code",
   "execution_count": 5,
   "id": "0facbe94-21b8-4052-ad7c-ad1be1ee4c1a",
   "metadata": {},
   "outputs": [
    {
     "name": "stdout",
     "output_type": "stream",
     "text": [
      "ss : 80000, lg : 14.6\n"
     ]
    }
   ],
   "source": [
    "# '%'를 사용한 변수 값 출력\n",
    "\n",
    "ss, lg, sk = 80000, 14.56, 200000\n",
    "print(\"ss : %d, lg : %.1f\" %(ss, lg))"
   ]
  },
  {
   "cell_type": "code",
   "execution_count": 11,
   "id": "bd25d3e8-931b-4a07-99cb-e6c977541bf0",
   "metadata": {},
   "outputs": [
    {
     "name": "stdout",
     "output_type": "stream",
     "text": [
      " 풀꽃 (나태주)\n",
      "\n",
      " 자세히 보아야\n",
      " 예쁘다\n",
      "\n",
      " 오래 보아야\n",
      " 사랑스럽다\n",
      "\n",
      " 너도 그렇다\n"
     ]
    }
   ],
   "source": [
    "# 문자열 출력\n",
    "\n",
    "str1 = \" 풀꽃 (나태주)\\n\\n\"\n",
    "str2 = \"자세히 보아야\\n 예쁘다\\n\\n\"\n",
    "str3 = \" 오래 보아야\\n 사랑스럽다\\n\\n\"\n",
    "str4 = \"너도 그렇다\"\n",
    "\n",
    "print(str1,str2+str3,str4)"
   ]
  },
  {
   "cell_type": "code",
   "execution_count": 12,
   "id": "7fefe9df-dd45-40a9-9a3f-ccfd5d28ce25",
   "metadata": {},
   "outputs": [
    {
     "name": "stdout",
     "output_type": "stream",
     "text": [
      "5000 <class 'int'>\n",
      "50.0 <class 'float'>\n"
     ]
    }
   ],
   "source": [
    "# 숫자형 연산\n",
    "\n",
    "price=500\n",
    "quantity=10\n",
    "amount=price*quantity\n",
    "fee_rate=0.01\n",
    "total_fee=amount*fee_rate\n",
    "\n",
    "print(amount, type(amount))\n",
    "print(total_fee, type(total_fee))"
   ]
  },
  {
   "cell_type": "code",
   "execution_count": 13,
   "id": "f53895be-add2-4fe9-a75c-384d20476cb4",
   "metadata": {},
   "outputs": [
    {
     "name": "stdout",
     "output_type": "stream",
     "text": [
      "e = c + d = 7\n"
     ]
    }
   ],
   "source": [
    "# 숫자형 포맷팅\n",
    "\n",
    "c, d = 3, 4\n",
    "e = c + d\n",
    "\n",
    "print(\"e = c + d = {0:d}\".format(e))"
   ]
  },
  {
   "cell_type": "code",
   "execution_count": 14,
   "id": "5c8b2eff-5bfe-455a-8761-fe63b1b3035c",
   "metadata": {},
   "outputs": [
    {
     "name": "stdout",
     "output_type": "stream",
     "text": [
      "*****\n",
      "summer 22 summer 22 summer 22 \n"
     ]
    }
   ],
   "source": [
    "# 문자열 연결\n",
    "\n",
    "name = \"summer\"\n",
    "age = \"22\"\n",
    "info = name + \" \" + age + \" \"\n",
    "\n",
    "print(\"*\" * 5)\n",
    "print(info * 3)"
   ]
  },
  {
   "cell_type": "code",
   "execution_count": 15,
   "id": "3ac0a80f-a7c0-4a1e-a574-69a3736bca22",
   "metadata": {},
   "outputs": [
    {
     "name": "stdout",
     "output_type": "stream",
     "text": [
      "Hello Python\n",
      "H n e\n"
     ]
    }
   ],
   "source": [
    "# 문자열 인덱싱\n",
    "\n",
    "str = 'Hello Python'\n",
    "\n",
    "print(str)\n",
    "print(str[0], str[-1], str[1])"
   ]
  },
  {
   "cell_type": "code",
   "execution_count": 16,
   "id": "8d449ea1-ee6b-44f8-8be6-2d4a4e72cc08",
   "metadata": {},
   "outputs": [
    {
     "name": "stdout",
     "output_type": "stream",
     "text": [
      "6 P Pyt\n"
     ]
    }
   ],
   "source": [
    "# 문자열 인덱싱\n",
    "\n",
    "str = 'Python'\n",
    "\n",
    "print(len(str), str[0], str[:3])"
   ]
  },
  {
   "cell_type": "code",
   "execution_count": 18,
   "id": "cb55cc4d-99c7-480d-a74e-a59c67977aa9",
   "metadata": {},
   "outputs": [
    {
     "name": "stdout",
     "output_type": "stream",
     "text": [
      "1.  2\n",
      "2.  4\n",
      "3.  Hello python\n",
      "4.  HELLO PYTHON\n",
      "5.  hello python\n",
      "6.  ['Hello', 'Python']\n"
     ]
    }
   ],
   "source": [
    "# 문자열 내장함수\n",
    "\n",
    "str = 'Hello Python'\n",
    "\n",
    "print(\"1. \", str.count('o'))\n",
    "print(\"2. \", str.find('o'))\n",
    "print(\"3. \", str.capitalize())\n",
    "print(\"4. \", str.upper())\n",
    "print(\"5. \", str.lower())\n",
    "print(\"6. \", str.split())"
   ]
  },
  {
   "cell_type": "code",
   "execution_count": null,
   "id": "b737f9b2-d9e3-49e6-9ace-9cfe6dd2a454",
   "metadata": {},
   "outputs": [],
   "source": []
  }
 ],
 "metadata": {
  "kernelspec": {
   "display_name": "Python 3 (ipykernel)",
   "language": "python",
   "name": "python3"
  },
  "language_info": {
   "codemirror_mode": {
    "name": "ipython",
    "version": 3
   },
   "file_extension": ".py",
   "mimetype": "text/x-python",
   "name": "python",
   "nbconvert_exporter": "python",
   "pygments_lexer": "ipython3",
   "version": "3.11.7"
  }
 },
 "nbformat": 4,
 "nbformat_minor": 5
}
