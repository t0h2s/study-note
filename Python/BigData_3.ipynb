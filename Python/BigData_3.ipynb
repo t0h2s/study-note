{
 "cells": [
  {
   "cell_type": "code",
   "execution_count": 6,
   "id": "c0556872-5e91-4f63-9b09-2d5a3d7011e1",
   "metadata": {},
   "outputs": [
    {
     "name": "stdout",
     "output_type": "stream",
     "text": [
      "양수\n"
     ]
    }
   ],
   "source": [
    "# if문 - 음수/양수 판단\n",
    "\n",
    "num = 5\n",
    "if num>0:\n",
    "    print(\"양수\")\n",
    "elif num<0:\n",
    "    print(\"음수\")\n",
    "else:\n",
    "    print(\"0입니다\")"
   ]
  },
  {
   "cell_type": "code",
   "execution_count": 8,
   "id": "23f91a73-a7a2-4826-9e94-e368993c2714",
   "metadata": {},
   "outputs": [
    {
     "name": "stdout",
     "output_type": "stream",
     "text": [
      "0 는 4의 배수로 10보다 작다\n",
      "4 는 4의 배수로 10보다 작다\n",
      "8 는 4의 배수로 10보다 작다\n"
     ]
    }
   ],
   "source": [
    "# for문\n",
    "\n",
    "for x in range(0, 10, 4):\n",
    "    print(x, \"는 4의 배수로 10보다 작다\")"
   ]
  },
  {
   "cell_type": "code",
   "execution_count": 15,
   "id": "ba80d839-e6fa-4d0b-b401-b2ee63599dff",
   "metadata": {},
   "outputs": [
    {
     "name": "stdout",
     "output_type": "stream",
     "text": [
      "sonata\n",
      "TESLA\n",
      "avante\n",
      "lexus\n"
     ]
    }
   ],
   "source": [
    "# for문\n",
    "\n",
    "cars = ['Sonata', 'Tesla', 'Avante', 'Lexus']\n",
    "for i in cars:\n",
    "    if i=='Tesla':\n",
    "        print(i.upper())\n",
    "    else:\n",
    "        print(i.lower())"
   ]
  },
  {
   "cell_type": "code",
   "execution_count": 22,
   "id": "18c88d26-56e8-4fef-b70d-2767f86f5b6f",
   "metadata": {},
   "outputs": [
    {
     "name": "stdout",
     "output_type": "stream",
     "text": [
      "1 1\n",
      "2 3\n",
      "3 6\n",
      "4 10\n",
      "5 15\n",
      "5 15\n"
     ]
    }
   ],
   "source": [
    "# while문\n",
    "\n",
    "i = 0\n",
    "total = 0\n",
    "while i < 5:\n",
    "    i+=1\n",
    "    total+=i\n",
    "    print(i, total)\n",
    "print(i, total)"
   ]
  },
  {
   "cell_type": "code",
   "execution_count": 17,
   "id": "e0460432-4c8a-4e6f-badb-f5f82e428d23",
   "metadata": {},
   "outputs": [
    {
     "name": "stdout",
     "output_type": "stream",
     "text": [
      "0\n",
      "비가 오니 등산 안 한다.\n",
      "1\n",
      "눈이 오니 등산 안 한다.\n",
      "2\n",
      "good 날씨이니 등산한다.\n",
      "good 날씨이니 등산한다.\n",
      "3\n",
      "비가 오니 등산 안 한다.\n",
      "4\n",
      "눈이 오니 등산 안 한다.\n"
     ]
    }
   ],
   "source": [
    "# while문\n",
    "\n",
    "i = 0\n",
    "weather=['rain', 'snow', 'good']\n",
    "while i < 5:\n",
    "    print(i)\n",
    "    if weather[i%3]=='rain':\n",
    "        print('비가 오니 등산 안 한다.')\n",
    "    elif weather[i%3]=='snow':\n",
    "        print('눈이 오니 등산 안 한다.')\n",
    "    else:\n",
    "        print(\"%s 날씨이니 등산한다.\" %weather[i%3])\n",
    "        print(f\"{weather[i%3]} 날씨이니 등산한다.\")\n",
    "    i+=1"
   ]
  },
  {
   "cell_type": "code",
   "execution_count": 18,
   "id": "04e8328a-070c-4001-b618-f9061caf3d4c",
   "metadata": {},
   "outputs": [
    {
     "data": {
      "text/plain": [
       "[0, 1, 4, 9, 16]"
      ]
     },
     "execution_count": 18,
     "metadata": {},
     "output_type": "execute_result"
    }
   ],
   "source": [
    "# 컴프리헨션(Comprehension)을 이용한 리스트 생성\n",
    "\n",
    "num = [x * x for x in range(5)]\n",
    "num"
   ]
  },
  {
   "cell_type": "code",
   "execution_count": 23,
   "id": "c9a9a3fc-c6dc-400a-bc23-9a437da68286",
   "metadata": {},
   "outputs": [
    {
     "data": {
      "text/plain": [
       "[0, 2, 4, 6, 8]"
      ]
     },
     "execution_count": 23,
     "metadata": {},
     "output_type": "execute_result"
    }
   ],
   "source": [
    "# 컴프리헨션\n",
    "\n",
    "num = [x for x in range(10) if x % 2 == 0]\n",
    "num"
   ]
  },
  {
   "cell_type": "code",
   "execution_count": 27,
   "id": "0491b9d5-6c2d-4a2a-8aad-d9017a5b0c3a",
   "metadata": {},
   "outputs": [
    {
     "data": {
      "text/plain": [
       "{0: 0, 1: 1, 2: 4, 3: 9, 4: 16}"
      ]
     },
     "execution_count": 27,
     "metadata": {},
     "output_type": "execute_result"
    }
   ],
   "source": [
    "# 딕셔너리 컴프리헨션\n",
    "\n",
    "dict = {i : i * i for i in range(5)}\n",
    "dict"
   ]
  },
  {
   "cell_type": "code",
   "execution_count": 28,
   "id": "b3bbdc40-ccef-46c5-a90f-673ac9631de6",
   "metadata": {},
   "outputs": [
    {
     "data": {
      "text/plain": [
       "{1, 4}"
      ]
     },
     "execution_count": 28,
     "metadata": {},
     "output_type": "execute_result"
    }
   ],
   "source": [
    "# 집합 컴프리헨션\n",
    "\n",
    "num = {i * i for i in [1, -1, 2]}   # {1, 1, 4}가 나오지만 집합은 중복을 허용하지 않아서 {1, 4}\n",
    "num"
   ]
  },
  {
   "cell_type": "code",
   "execution_count": 30,
   "id": "5128919b-717d-48ec-815f-bbcde0a3a549",
   "metadata": {},
   "outputs": [
    {
     "name": "stdout",
     "output_type": "stream",
     "text": [
      "3\n"
     ]
    }
   ],
   "source": [
    "# 함수\n",
    "\n",
    "def add(a, b):\n",
    "    return a + b\n",
    "\n",
    "print(add(1, 2))"
   ]
  },
  {
   "cell_type": "code",
   "execution_count": 33,
   "id": "663b822b-f617-4072-b246-613eb11a12e1",
   "metadata": {},
   "outputs": [
    {
     "data": {
      "text/plain": [
       "10"
      ]
     },
     "execution_count": 33,
     "metadata": {},
     "output_type": "execute_result"
    }
   ],
   "source": [
    "# 람다 함수 (lambda)\n",
    "# (lambda 인자 : 반환값 또는 수식)(인자)\n",
    "\n",
    "(lambda x : x * 2)(5)   # x에 5라는 값을 넣고 x * 2라는 수식을 실행"
   ]
  },
  {
   "cell_type": "code",
   "execution_count": 35,
   "id": "65158911-32de-40f9-9b74-d00d7bc7e0bd",
   "metadata": {},
   "outputs": [
    {
     "data": {
      "text/plain": [
       "defaultdict(int, {'apple': 3, 'banana': 2, 'cherry': 1, 'melon': 1})"
      ]
     },
     "execution_count": 35,
     "metadata": {},
     "output_type": "execute_result"
    }
   ],
   "source": [
    "# defaultdict 함수\n",
    "\n",
    "from collections import defaultdict\n",
    "\n",
    "fruits = [\"apple\", \"apple\", \"apple\", \"banana\", \"banana\", \"cherry\", \"melon\"]\n",
    "word_counts = defaultdict(int)\n",
    "for i in fruits:\n",
    "    word_counts[i]+=1\n",
    "word_counts"
   ]
  },
  {
   "cell_type": "code",
   "execution_count": 36,
   "id": "8cc1038e-b148-44c0-b04e-08c90edc152c",
   "metadata": {},
   "outputs": [
    {
     "name": "stdout",
     "output_type": "stream",
     "text": [
      "Counter({0: 2, 1: 1, 2: 1})\n"
     ]
    }
   ],
   "source": [
    "# Counter 함수 : 열거형 데이터형의 데이터를 키로, 데이터의 개수를 값으로 반환\n",
    "# 첫 글자를 대문자로 입력해야 에러가 발생하지 않음\n",
    "\n",
    "from collections import Counter\n",
    "c = Counter([0, 1, 2, 0])\n",
    "print(c)"
   ]
  },
  {
   "cell_type": "code",
   "execution_count": 37,
   "id": "34c691ca-bbf7-4c6d-a369-8a289e7af1e1",
   "metadata": {},
   "outputs": [
    {
     "data": {
      "text/plain": [
       "[('a', 1), ('b', 2), ('c', 3)]"
      ]
     },
     "execution_count": 37,
     "metadata": {},
     "output_type": "execute_result"
    }
   ],
   "source": [
    "# zip 함수 : 같은 개수를 가지는 리스트나 딕셔너리 등의 데이터를 쌍을 묶어서 표시\n",
    "\n",
    "letters = ['a', 'b', 'c']\n",
    "numbers = [1, 2, 3]\n",
    "[pair for pair in zip(letters, numbers)]"
   ]
  },
  {
   "cell_type": "code",
   "execution_count": 38,
   "id": "9916b9e3-b165-4c91-a82e-482eea596e9d",
   "metadata": {},
   "outputs": [
    {
     "name": "stdout",
     "output_type": "stream",
     "text": [
      "0 : aa 10\n",
      "1 : bb 5\n",
      "2 : cc 5\n",
      "3 : dd 20\n"
     ]
    }
   ],
   "source": [
    "# enumerate 함수 : 같은 순서가 있는 데이터형(리스트, 튜플 등)을 입력받아 열거하여 객체로 만들 때 사용\n",
    "\n",
    "my_num = {'aa':10, 'bb':5, 'cc':5, 'dd':20}\n",
    "data = enumerate(my_num)\n",
    "for i, j in data:\n",
    "    print(i, \":\", j, my_num[j])"
   ]
  },
  {
   "cell_type": "code",
   "execution_count": 5,
   "id": "b2e436aa-a255-419d-9b40-6d222e826b4d",
   "metadata": {},
   "outputs": [
    {
     "name": "stdout",
     "output_type": "stream",
     "text": [
      "['A', 'B', 'C', 'D', 'E']\n",
      "['A', 'B', 'C', 'D', 'E', 'S', 'K']\n"
     ]
    }
   ],
   "source": [
    "# extend() : 리스트 끝에 원소 추가\n",
    "# append()와 달리 리스트, 튜플, str 등 순회형 자료만 추가 가능\n",
    "# append()는 ['A', 'B', 'C', ['D', 'E']] 와 같이 y를 하나의 원소로 간주하여 추가\n",
    "# extend()는 ['A', 'B', 'C', 'D', 'E'] 와 같이 y의 각 항목들을 추가\n",
    "\n",
    "# 리스트 추가\n",
    "a = ['A', 'B', 'C']\n",
    "b = ['D', 'E']\n",
    "a.extend(b)\n",
    "\n",
    "# 문자열 추가\n",
    "c = ['A', 'B', 'C']\n",
    "d = 'DESK'\n",
    "c.extend(d)\n",
    "\n",
    "print(a)\n",
    "print(c)"
   ]
  },
  {
   "cell_type": "code",
   "execution_count": 10,
   "id": "2d44848a-e441-42df-8a09-0a68e61919da",
   "metadata": {},
   "outputs": [
    {
     "name": "stdout",
     "output_type": "stream",
     "text": [
      "[4, 1, 3, 5, 2]\n",
      "[1, 2, 3, 4, 5]\n",
      "[1, 2, 3, 4, 5]\n"
     ]
    }
   ],
   "source": [
    "# sort(), sorted()\n",
    "# sort() : 원본 리스트 자체를 정렬\n",
    "# sorted() : 원본 리스트를 정렬하는 것이 아니라 새로운 객체에 담아서 반환\n",
    "\n",
    "a = [4, 1, 3, 5, 2]\n",
    "sorted_nums = sorted(a)   # sorted()로 정렬한 리스트를 sorted_nums에 담아서 반환\n",
    "\n",
    "print(a)   # sorted()로 정렬은 했지만 원본을 정렬한 게 아니기 때문에 그대로임\n",
    "print(sorted_nums)   # 정렬한 리스트를 담은 객체 출력\n",
    "\n",
    "a.sort()   # 원본 리스트를 정렬\n",
    "print(a)   # 정렬된 리스트 출력"
   ]
  },
  {
   "cell_type": "code",
   "execution_count": null,
   "id": "95e2b65e-9fb0-4787-ae7e-1ca8b8780781",
   "metadata": {},
   "outputs": [],
   "source": []
  }
 ],
 "metadata": {
  "kernelspec": {
   "display_name": "Python 3 (ipykernel)",
   "language": "python",
   "name": "python3"
  },
  "language_info": {
   "codemirror_mode": {
    "name": "ipython",
    "version": 3
   },
   "file_extension": ".py",
   "mimetype": "text/x-python",
   "name": "python",
   "nbconvert_exporter": "python",
   "pygments_lexer": "ipython3",
   "version": "3.11.7"
  }
 },
 "nbformat": 4,
 "nbformat_minor": 5
}
