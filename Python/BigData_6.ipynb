{
 "cells": [
  {
   "cell_type": "code",
   "execution_count": null,
   "id": "8cd8aec2-8cc7-4f8f-b2bd-c2f9a43839a7",
   "metadata": {},
   "outputs": [],
   "source": [
    "series : 1차원 출력\n",
    "DataFrame : 2차원 출력\n",
    "\n",
    "read_csv() : csv 파일 데이터 가져오기\n",
    "load_dataset()\n",
    "\n",
    "np.nan : 임의 결측치 추가\n",
    "loc, iloc : 조건 지정하여 원하는 데이터 추출\n",
    "head() : 데이터의 상위 5개 행만 출력\n",
    "info() : 데이터프레임의 정보 확인(길이, 데이터타입 등)\n",
    "\n",
    "select_dtypes(include='int') : 특정 데이터타입을 가지는 열만 필터링\n",
    "select_dtypes(exclude='int') : 특정 데이터타입을 가지는 열만 제외하고 필터링\n",
    "\n",
    "filter(like='00:00:00', axis=0) : 00:00:00이라는 값을 포함하는 행만 필터링 (axis 0은 행, 1은 열) \n",
    "filter(items=['humidity', 'windspeed']) : humidity, windspeed에 해당하는 행/열만 필터링\n",
    "filter(regex='i') : 열 이름에 i가 포함되어 있는 행만 출력\n",
    "\n",
    "rename({'registered':'registered_user', 'casual':'unregistered_user'}, axis=1) : 열 이름 registered->registered_user, casual->unregistered_user로 변경\n",
    "rename(columns={'registered':'registered_user', 'casual':'unregistered_user'}) : 위와 같음\n",
    "\n",
    "describe() : 요약 통계량 확인\n",
    "describe(include='object') : 범주형 변수에 대한 요약 통계량 확인\n",
    "value_counts() : df['Review'].value_counts() : Review 변수에 대한 모든 고유값과 그 빈도수를 반환\n",
    "\n",
    "isna() : index = df[df['Rating'].isna()].head(5).index : 값이 결측치인 곳을 출력\n",
    "isna().sum() : 결측치 개수 확인\n",
    "fillna() : df['Rating'] = df['Rating'].fillna(df['Rating'].mean()) : 결측치를 평균값으로 대체\n",
    "fillna(method=\"ffill\") : 앞의 값으로 뒤의 결측치를 대체\n",
    "fillna(method=\"bfill\") : 뒤의 값으로 앞의 결측치를 대체\n",
    "dropna() : 결측치가 포함된 행/열을 삭제\n",
    "\n",
    "quantile() : 해당 행/열의 분위수에 해당하는 값 반환 (lower, higher, midpoint, nearest, liner)\n",
    "query() : 인자로 조건식을 나타내는 문자열을 전달하여 필터링\n",
    "\n",
    "groupby() : 특정 변수의 값별로 묶어서 각종 연산 가능\n",
    "\n",
    "apply() : groupby('species')[['bill_length_mm','bill_depth_mm','flipper_length_mm','body_mass_g']].apply(lambda x: x.fillna(x.mean()))\n",
    "        : species를 bill_length_mm, bill_depth_mm, flipper_length_mm, body_mass_g 항목으로 분류하고 결측치를 각 그룹별 평균값으로 대체\n",
    "\n",
    "to_datetime() : 시계열 데이터\n",
    "\n",
    "resample() : 인덱스가 datetime 데이터형인 경우 특정 날짜/시간 단위로 데이터를 분절 후 연산 \n",
    "resample('7d').mean() : 데이터를 7일 단위로 분절 후 각 그룹별 평균값 계산"
   ]
  },
  {
   "cell_type": "code",
   "execution_count": null,
   "id": "61707129-ab57-4d03-b54e-6326caee9962",
   "metadata": {},
   "outputs": [],
   "source": [
    " "
   ]
  }
 ],
 "metadata": {
  "kernelspec": {
   "display_name": "Python 3 (ipykernel)",
   "language": "python",
   "name": "python3"
  },
  "language_info": {
   "codemirror_mode": {
    "name": "ipython",
    "version": 3
   },
   "file_extension": ".py",
   "mimetype": "text/x-python",
   "name": "python",
   "nbconvert_exporter": "python",
   "pygments_lexer": "ipython3",
   "version": "3.11.7"
  }
 },
 "nbformat": 4,
 "nbformat_minor": 5
}
