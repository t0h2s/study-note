{
 "cells": [
  {
   "cell_type": "code",
   "execution_count": 3,
   "id": "8cd8aec2-8cc7-4f8f-b2bd-c2f9a43839a7",
   "metadata": {},
   "outputs": [
    {
     "name": "stdin",
     "output_type": "stream",
     "text": [
      "주행한 거리를 입력하세요(km) :  1000\n",
      "소비한 연료량을 입력하세요(L) :  50\n"
     ]
    },
    {
     "name": "stdout",
     "output_type": "stream",
     "text": [
      "이 차량은 연비가 우수합니다.\n"
     ]
    }
   ],
   "source": [
    "# if\n",
    "\n",
    "distance = float(input(\"주행한 거리를 입력하세요(km) : \"))\n",
    "fuel = float(input(\"소비한 연료량을 입력하세요(L) : \"))\n",
    "\n",
    "fuel_efficiency = distance / fuel\n",
    "\n",
    "if fuel_efficiency > 15:\n",
    "    print(\"이 차량은 연비가 우수합니다.\")\n",
    "else:\n",
    "    print(\"이 차량의 연비는 평균 이하입니다.\")"
   ]
  },
  {
   "cell_type": "code",
   "execution_count": 8,
   "id": "75ea1498-e6f8-44d6-99b6-66e08794a895",
   "metadata": {},
   "outputs": [
    {
     "name": "stdin",
     "output_type": "stream",
     "text": [
      "숫자를 입력하세요 :  -5000\n"
     ]
    },
    {
     "name": "stdout",
     "output_type": "stream",
     "text": [
      "음수이며 절대값이 큽니다.\n"
     ]
    }
   ],
   "source": [
    "# elif\n",
    "\n",
    "number = int(input(\"숫자를 입력하세요 : \"))\n",
    "\n",
    "if number > 0:\n",
    "    print(\"양수입니다.\")\n",
    "elif number < 0:\n",
    "    if number < -1000:\n",
    "        print(\"음수이며 절대값이 큽니다.\")\n",
    "    else:\n",
    "        print(\"음수입니다.\")\n",
    "else:\n",
    "    print(\"0입니다\")"
   ]
  },
  {
   "cell_type": "code",
   "execution_count": 16,
   "id": "7a34627c-ec41-4397-bb80-ee912f731fe0",
   "metadata": {},
   "outputs": [
    {
     "name": "stdin",
     "output_type": "stream",
     "text": [
      "문자열을 입력하세요 :  python\n"
     ]
    },
    {
     "name": "stdout",
     "output_type": "stream",
     "text": [
      "뒤집힌 문자열 :  nohtyp\n"
     ]
    }
   ],
   "source": [
    "# for문, 문자열 거꾸로 출력\n",
    "\n",
    "text = input(\"문자열을 입력하세요 : \")\n",
    "reversed_text = \"\"\n",
    "\n",
    "for c in text:\n",
    "    reversed_text = c + reversed_text\n",
    "\n",
    "print(\"뒤집힌 문자열 : \", reversed_text)"
   ]
  },
  {
   "cell_type": "code",
   "execution_count": 17,
   "id": "87b517c9-4355-4125-a1b0-b88c1a1cb381",
   "metadata": {},
   "outputs": [
    {
     "name": "stdin",
     "output_type": "stream",
     "text": [
      "합의 제한 값을 입력하세요 :  10\n"
     ]
    },
    {
     "name": "stdout",
     "output_type": "stream",
     "text": [
      "현재 숫자 :  1 , 현재 합계 :  1\n",
      "현재 숫자 :  2 , 현재 합계 :  3\n",
      "현재 숫자 :  3 , 현재 합계 :  6\n",
      "현재 숫자 :  4 , 현재 합계 :  10\n",
      "최종 합계는 10, 4번 반복 후 종료되었습니다.\n"
     ]
    }
   ],
   "source": [
    "# while문, 숫자를 1부터 계속 더해가면서 합이 입력한 값보다 커지면 종료\n",
    "\n",
    "limit = int(input(\"합의 제한 값을 입력하세요 : \"))\n",
    "\n",
    "total = 0\n",
    "counter = 1\n",
    "\n",
    "while total < limit:\n",
    "    total += counter\n",
    "    print(\"현재 숫자 : \", counter, \", 현재 합계 : \", total)\n",
    "    counter += 1\n",
    "print(f\"최종 합계는 {total}, {counter-1}번 반복 후 종료되었습니다.\")"
   ]
  },
  {
   "cell_type": "code",
   "execution_count": 21,
   "id": "d8041b5c-0b1e-4c69-9790-94f6a010e46e",
   "metadata": {},
   "outputs": [
    {
     "name": "stdin",
     "output_type": "stream",
     "text": [
      "시작 범위 :  5\n",
      "끝 범위 :  15\n",
      "생성할 숫자 개수 :  3\n"
     ]
    },
    {
     "name": "stdout",
     "output_type": "stream",
     "text": [
      "생성된 숫자 리스트 :  [14, 6, 7]\n"
     ]
    }
   ],
   "source": [
    "# 함수, 시작 범위, 끝 범위, 생성할 숫자 개수를 입력받고 랜덤 숫자 생성\n",
    "\n",
    "import random\n",
    "\n",
    "def generate_unique_num(start, end, count):\n",
    "    list = []\n",
    "    for i in range(count):\n",
    "        a = random.randrange(start, end)\n",
    "        while a in list:\n",
    "            a = random.randrange(start, end)\n",
    "        list.append(a)\n",
    "    return list\n",
    "\n",
    "start = int(input(\"시작 범위 : \"))\n",
    "end = int(input(\"끝 범위 : \"))\n",
    "count = int(input(\"생성할 숫자 개수 : \"))\n",
    "\n",
    "result = generate_unique_num(start, end, count)\n",
    "print(\"생성된 숫자 리스트 : \", result)"
   ]
  },
  {
   "cell_type": "code",
   "execution_count": 22,
   "id": "c127a9bc-f34d-4ad3-bc34-89ff94e4931b",
   "metadata": {},
   "outputs": [
    {
     "name": "stdin",
     "output_type": "stream",
     "text": [
      "단어들을 공백으로 구분하여 입력하세요 :  spring fall water\n"
     ]
    },
    {
     "name": "stdout",
     "output_type": "stream",
     "text": [
      "단어 길이에 따른 정렬 결과 :  ['fall', 'water', 'spring']\n"
     ]
    }
   ],
   "source": [
    "# 함수, 단어 길이 순서로 정렬\n",
    "\n",
    "def sort_words_by_length(word_list):\n",
    "    return sorted(word_list, key=len)\n",
    "    \n",
    "words = input(\"단어들을 공백으로 구분하여 입력하세요 : \").split()   # split() : 공백 기준으로 단어 구분\n",
    "sorted_words = sort_words_by_length(words)\n",
    "print(\"단어 길이에 따른 정렬 결과 : \", sorted_words)"
   ]
  },
  {
   "cell_type": "code",
   "execution_count": 10,
   "id": "9f0294b1-61b2-4504-896a-d84785f0ba61",
   "metadata": {},
   "outputs": [
    {
     "name": "stdin",
     "output_type": "stream",
     "text": [
      "섭씨를 화씨로 변환하려면 'C', 화씨를 섭씨로 변환하려면 'F'를 입력하세요. f\n",
      "화씨 온도를 입력하세요 :  100\n"
     ]
    },
    {
     "name": "stdout",
     "output_type": "stream",
     "text": [
      "변환된 섭씨 온도는 37.78도 입니다.\n"
     ]
    }
   ],
   "source": [
    "# 함수, 섭씨 화씨 온도 변환기\n",
    "\n",
    "def cel_to_fahr(c):\n",
    "    return (c * 9 / 5) + 32\n",
    "\n",
    "def fahr_to_cel(f):\n",
    "    return (f - 32) * 5 / 9\n",
    "\n",
    "choice = input(\"섭씨를 화씨로 변환하려면 'C', 화씨를 섭씨로 변환하려면 'F'를 입력하세요.\").upper()\n",
    "\n",
    "if choice == 'C':\n",
    "    temp = float(input(\"섭씨 온도를 입력하세요 : \"))\n",
    "    print(f\"변환된 화씨 온도는 {cel_to_fahr(temp):.2f}도 입니다.\")\n",
    "elif choice == 'F':\n",
    "    temp = float(input(\"화씨 온도를 입력하세요 : \"))\n",
    "    print(f\"변환된 섭씨 온도는 {fahr_to_cel(temp):.2f}도 입니다.\")\n",
    "else:\n",
    "    print(\"잘못된 입력입니다.\")"
   ]
  },
  {
   "cell_type": "code",
   "execution_count": 25,
   "id": "6aa4d33d-2d7e-4105-ba43-622cf197ed8b",
   "metadata": {},
   "outputs": [
    {
     "name": "stdin",
     "output_type": "stream",
     "text": [
      "숫자들을 공백으로 구분하여 입력하세요 :  5 4 7 10 2\n"
     ]
    },
    {
     "name": "stdout",
     "output_type": "stream",
     "text": [
      "최대값 : 10, 최소값 : 2, 평균값 : 5.60\n"
     ]
    }
   ],
   "source": [
    "# 함수, 숫자 여러 개를 입력받아 최대값, 최소값, 평균값 구하기\n",
    "\n",
    "def list_statistics(num):\n",
    "    max_value = max(num)\n",
    "    min_value = min(num)\n",
    "    sum = 0\n",
    "    for i in num:\n",
    "        sum += i\n",
    "    avg_value = sum / len(num)\n",
    "    return max_value, min_value, avg_value\n",
    "\n",
    "\n",
    "numbers = list(map(int, input(\"숫자들을 공백으로 구분하여 입력하세요 : \").split()))\n",
    "max_value, min_value, avg_value = list_statistics(numbers)\n",
    "print(f\"최대값 : {max_value}, 최소값 : {min_value}, 평균값 : {avg_value:.2f}\")"
   ]
  },
  {
   "cell_type": "code",
   "execution_count": null,
   "id": "52bf35cd-7012-4532-bad0-6bf15eb3661e",
   "metadata": {},
   "outputs": [],
   "source": []
  }
 ],
 "metadata": {
  "kernelspec": {
   "display_name": "Python 3 (ipykernel)",
   "language": "python",
   "name": "python3"
  },
  "language_info": {
   "codemirror_mode": {
    "name": "ipython",
    "version": 3
   },
   "file_extension": ".py",
   "mimetype": "text/x-python",
   "name": "python",
   "nbconvert_exporter": "python",
   "pygments_lexer": "ipython3",
   "version": "3.11.7"
  }
 },
 "nbformat": 4,
 "nbformat_minor": 5
}
