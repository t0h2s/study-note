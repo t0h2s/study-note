{
 "cells": [
  {
   "cell_type": "code",
   "execution_count": 1,
   "id": "c4fc0e53-4950-4680-abd2-c01f5c25d46f",
   "metadata": {},
   "outputs": [
    {
     "name": "stdout",
     "output_type": "stream",
     "text": [
      "1 :  ['hello', 0.1, 100, True]\n",
      "2 :  [1, 2] [1, 2, 3, 4, 5]\n",
      "3 :  [500, 20, 30]\n"
     ]
    }
   ],
   "source": [
    "# 리스트 생성\n",
    "# [ ]를 사용하여 정의\n",
    "# 원소 변경 가능\n",
    "# 리스트 하나에 문자, 숫자, 실수형 자료 저장 가능\n",
    "# '+' 연산자로 리스트 결함 가능\n",
    "\n",
    "data_list = [\"hello\", 0.1, 100, True]\n",
    "print(\"1 : \", data_list)\n",
    "\n",
    "a = [1, 2]\n",
    "b = a + [3, 4, 5]\n",
    "print(\"2 : \", a, b)\n",
    "\n",
    "num = [10, 20, 30]\n",
    "num[0] = 500\n",
    "print(\"3 : \", num)"
   ]
  },
  {
   "cell_type": "code",
   "execution_count": 2,
   "id": "9fc55e58-3650-4d04-bcbb-f3f48d002e30",
   "metadata": {},
   "outputs": [
    {
     "name": "stdout",
     "output_type": "stream",
     "text": [
      "1 :  10\n",
      "2 :  50\n",
      "3 :  [10, 20]\n",
      "4 :  [40, 50]\n"
     ]
    }
   ],
   "source": [
    "# 리스트 원소의 접근과 사용\n",
    "\n",
    "num = [10, 20, 30, 40, 50]\n",
    "print(\"1 : \", num[0])   # 1번째\n",
    "print(\"2 : \", num[-1])  # 뒤에서 1번째\n",
    "print(\"3 : \", num[:2])  # 처음부터 3번째 전까지\n",
    "print(\"4 : \", num[3:])  # 4번째부터 끝까지"
   ]
  },
  {
   "cell_type": "code",
   "execution_count": 3,
   "id": "37a5b43c-7019-402e-b47b-8bd49296bb7a",
   "metadata": {},
   "outputs": [
    {
     "name": "stdout",
     "output_type": "stream",
     "text": [
      "1 :  [10, 30, 20]\n",
      "2 :  3\n",
      "3 :  [10, 30, 20, 50]\n",
      "4 :  110\n",
      "5 :  [10, 20, 30, 50]\n"
     ]
    }
   ],
   "source": [
    "# 리스트 내장 함수\n",
    "\n",
    "num = [10, 30, 20]\n",
    "print(\"1 : \", num)\n",
    "print(\"2 : \", len(num))   # 리스트의 길이\n",
    "\n",
    "num.append(50)   # 맨 뒤에 원소 추가\n",
    "print(\"3 : \", num)\n",
    "print(\"4 : \", sum(num))   # 원소들의 합\n",
    "\n",
    "num.sort()   # 오름차순으로 정렬\n",
    "print(\"5 : \", num)"
   ]
  },
  {
   "cell_type": "code",
   "execution_count": 7,
   "id": "6f717fa4-e29c-450f-bc09-81fb4b7aeca4",
   "metadata": {},
   "outputs": [
    {
     "name": "stdout",
     "output_type": "stream",
     "text": [
      "1 :  ('hello', 0.1, 100, True)\n",
      "2 :  hello\n"
     ]
    },
    {
     "ename": "TypeError",
     "evalue": "'tuple' object does not support item assignment",
     "output_type": "error",
     "traceback": [
      "\u001b[1;31m---------------------------------------------------------------------------\u001b[0m",
      "\u001b[1;31mTypeError\u001b[0m                                 Traceback (most recent call last)",
      "Cell \u001b[1;32mIn[7], line 6\u001b[0m\n\u001b[0;32m      4\u001b[0m \u001b[38;5;28mprint\u001b[39m(\u001b[38;5;124m\"\u001b[39m\u001b[38;5;124m1 : \u001b[39m\u001b[38;5;124m\"\u001b[39m, data)\n\u001b[0;32m      5\u001b[0m \u001b[38;5;28mprint\u001b[39m(\u001b[38;5;124m\"\u001b[39m\u001b[38;5;124m2 : \u001b[39m\u001b[38;5;124m\"\u001b[39m, data[\u001b[38;5;241m0\u001b[39m])\n\u001b[1;32m----> 6\u001b[0m data[\u001b[38;5;241m2\u001b[39m] \u001b[38;5;241m=\u001b[39m \u001b[38;5;241m50\u001b[39m\n\u001b[0;32m      7\u001b[0m \u001b[38;5;28mprint\u001b[39m(\u001b[38;5;124m\"\u001b[39m\u001b[38;5;124m3 : \u001b[39m\u001b[38;5;124m\"\u001b[39m, data)\n",
      "\u001b[1;31mTypeError\u001b[0m: 'tuple' object does not support item assignment"
     ]
    }
   ],
   "source": [
    "# 튜플 생성\n",
    "# ( )를 사용하여 정의\n",
    "# 읽기만 가능하고 변경/삭제 불가능\n",
    "# 원소 변경이 불가하여 불변객체라 함\n",
    "# 인덱싱, 슬라이싱 가능\n",
    "\n",
    "data = (\"hello\", 0.1, 100, True)\n",
    "print(\"1 : \", data)\n",
    "print(\"2 : \", data[0])\n",
    "data[2] = 50   # 튜플은 원소 변경이 불가한 불변객체이므로 오류 발생\n",
    "print(\"3 : \", data)"
   ]
  },
  {
   "cell_type": "code",
   "execution_count": 8,
   "id": "b6f2ba8b-f147-481c-b9c8-d2273649678a",
   "metadata": {},
   "outputs": [
    {
     "name": "stdout",
     "output_type": "stream",
     "text": [
      "1 :  10\n",
      "2 :  50\n",
      "3 :  [10, 20]\n",
      "4 :  [40, 50]\n"
     ]
    }
   ],
   "source": [
    "# 튜플 인덱싱, 슬라이싱\n",
    "\n",
    "num = [10, 20, 30, 40, 50]\n",
    "print(\"1 : \", num[0])\n",
    "print(\"2 : \", num[-1])\n",
    "print(\"3 : \", num[:2])\n",
    "print(\"4 : \", num[3:])"
   ]
  },
  {
   "cell_type": "code",
   "execution_count": 3,
   "id": "a14a1c09-6e3a-43a4-8efb-11cdfb7a9d42",
   "metadata": {},
   "outputs": [
    {
     "name": "stdout",
     "output_type": "stream",
     "text": [
      "1 :  {40, 10, 50, 20, 30}\n",
      "2 :  {200, 100, 300}\n"
     ]
    }
   ],
   "source": [
    "# 집합 생성\n",
    "# { }를 사용하여 정의 또는 set 함수 사용\n",
    "# 중복을 허용하지 않으며, 순서가 없음\n",
    "\n",
    "num = [10, 20, 30, 40, 50]\n",
    "num_set1 = set(num)\n",
    "num_set2 = {100, 200, 300}\n",
    "\n",
    "print(\"1 : \", num_set1)   # 집합은 순서가 정해져있지 않음\n",
    "print(\"2 : \", num_set2)"
   ]
  },
  {
   "cell_type": "code",
   "execution_count": 12,
   "id": "9823701d-0089-4562-94e7-910d6886b366",
   "metadata": {},
   "outputs": [
    {
     "name": "stdout",
     "output_type": "stream",
     "text": [
      "1 :  {200, 40, 100, 300}\n",
      "2 :  {100, 200, 40, 300, 50}\n",
      "3 :  {100, 200, 40, 300, 50}\n"
     ]
    }
   ],
   "source": [
    "num_set = {100, 200, 300}\n",
    "num_set.add(40)\n",
    "print(\"1 : \", num_set)\n",
    "num_set.add(50)\n",
    "print(\"2 : \", num_set)\n",
    "num_set.add(50)   # 집합은 중복을 허용하지 않음\n",
    "print(\"3 : \", num_set)"
   ]
  },
  {
   "cell_type": "code",
   "execution_count": 13,
   "id": "9f4057a5-552b-4f08-8ead-01df1311c138",
   "metadata": {},
   "outputs": [
    {
     "name": "stdout",
     "output_type": "stream",
     "text": [
      "1 :  {}\n",
      "2 :  {'a': 10, 'b': 5, 'c': 5}\n"
     ]
    }
   ],
   "source": [
    "# 딕셔너리 생성\n",
    "# 키와 값을 한 쌍으로 저장\n",
    "# 키는 고유값으로 변경할 수 없으며 중복 저장 불가능\n",
    "\n",
    "num1 = {}\n",
    "num2 = {'a':10, 'b':5, 'c':5}\n",
    "print(\"1 : \", num1)\n",
    "print(\"2 : \", num2)"
   ]
  },
  {
   "cell_type": "code",
   "execution_count": 17,
   "id": "7f9e5812-c456-4158-9ac6-85be3ad9b0e5",
   "metadata": {},
   "outputs": [
    {
     "name": "stdout",
     "output_type": "stream",
     "text": [
      "1 :  5\n"
     ]
    },
    {
     "ename": "KeyError",
     "evalue": "5",
     "output_type": "error",
     "traceback": [
      "\u001b[1;31m---------------------------------------------------------------------------\u001b[0m",
      "\u001b[1;31mKeyError\u001b[0m                                  Traceback (most recent call last)",
      "Cell \u001b[1;32mIn[17], line 3\u001b[0m\n\u001b[0;32m      1\u001b[0m num \u001b[38;5;241m=\u001b[39m {\u001b[38;5;124m'\u001b[39m\u001b[38;5;124ma\u001b[39m\u001b[38;5;124m'\u001b[39m:\u001b[38;5;241m10\u001b[39m, \u001b[38;5;124m'\u001b[39m\u001b[38;5;124mb\u001b[39m\u001b[38;5;124m'\u001b[39m:\u001b[38;5;241m5\u001b[39m, \u001b[38;5;124m'\u001b[39m\u001b[38;5;124mc\u001b[39m\u001b[38;5;124m'\u001b[39m:\u001b[38;5;241m5\u001b[39m}\n\u001b[0;32m      2\u001b[0m \u001b[38;5;28mprint\u001b[39m(\u001b[38;5;124m\"\u001b[39m\u001b[38;5;124m1 : \u001b[39m\u001b[38;5;124m\"\u001b[39m, num[\u001b[38;5;124m'\u001b[39m\u001b[38;5;124mb\u001b[39m\u001b[38;5;124m'\u001b[39m])\n\u001b[1;32m----> 3\u001b[0m \u001b[38;5;28mprint\u001b[39m(\u001b[38;5;124m\"\u001b[39m\u001b[38;5;124m2 : \u001b[39m\u001b[38;5;124m\"\u001b[39m, num[\u001b[38;5;241m5\u001b[39m])\n",
      "\u001b[1;31mKeyError\u001b[0m: 5"
     ]
    }
   ],
   "source": [
    "# 딕셔너리 원소 사용\n",
    "\n",
    "num = {'a':10, 'b':5, 'c':5}\n",
    "print(\"1 : \", num['b'])\n",
    "print(\"2 : \", num[5])   # KeyError 발생"
   ]
  },
  {
   "cell_type": "code",
   "execution_count": 18,
   "id": "65ec9046-1c22-4f92-9aef-d60b179d2bbf",
   "metadata": {},
   "outputs": [
    {
     "name": "stdout",
     "output_type": "stream",
     "text": [
      "1 :  5\n",
      "2 :  {'a': 10, 'b': 10, 'c': 5}\n",
      "3 :  {'a': 10, 'b': 10, 'c': 5, 'd': 100}\n",
      "4 :  100\n"
     ]
    }
   ],
   "source": [
    "# 딕셔너리 키와 값 사용\n",
    "\n",
    "num = {'a':10, 'b':5, 'c':5}\n",
    "print(\"1 : \", num['b'])\n",
    "\n",
    "num['b'] = 10\n",
    "print(\"2 : \", num)\n",
    "\n",
    "num['d'] = 100\n",
    "print(\"3 : \", num)\n",
    "print(\"4 : \", num['d'])"
   ]
  },
  {
   "cell_type": "code",
   "execution_count": 19,
   "id": "f5259975-3d1d-4b04-b3ee-b899d4cc7809",
   "metadata": {},
   "outputs": [
    {
     "name": "stdout",
     "output_type": "stream",
     "text": [
      "1. Keys : dict_keys(['a', 'b', 'c'])\n",
      "2. Keys : \n",
      "a\n",
      "b\n",
      "c\n",
      "3 : Values : \n",
      "10\n",
      "5\n",
      "5\n"
     ]
    }
   ],
   "source": [
    "# 딕셔너리 내장 함수\n",
    "# keys(), values()\n",
    "\n",
    "num = {'a':10, 'b':5, 'c':5}\n",
    "print(\"1. Keys : %s\" %num.keys())\n",
    "\n",
    "print(\"2. Keys : \")\n",
    "for i in num.keys():   # 키만 추출\n",
    "    print(i)\n",
    "\n",
    "print(\"3 : Values : \")\n",
    "for j in num.values():   # 값만 추출\n",
    "    print(j)"
   ]
  },
  {
   "cell_type": "code",
   "execution_count": 21,
   "id": "07e18a30-34c1-46b2-97a3-5fe679c5e867",
   "metadata": {},
   "outputs": [
    {
     "name": "stdout",
     "output_type": "stream",
     "text": [
      "1. items :  [('a', 10), ('b', 5), ('c', 15)]\n",
      "2 :  10\n",
      "3 :  True\n",
      "4 :  True\n",
      "5 :  False\n",
      "6 :  True\n"
     ]
    }
   ],
   "source": [
    "# 딕셔너리 내장 함수\n",
    "# items(), get(), in\n",
    "\n",
    "num = {'a':10, 'b':5, 'c':15}\n",
    "num_list1 = list(num.items())   # 키와 값을 쌍으로 출력\n",
    "print(\"1. items : \", num_list1)\n",
    "\n",
    "val = num.get('a')   # 키가 가리키는 값을 가져옴\n",
    "print(\"2 : \", val)\n",
    "print(\"3 : \", 'c' in num)\n",
    "print(\"4 : \", 'a' in num.keys())\n",
    "print(\"5 : \", 'x' in num.keys())\n",
    "print(\"6 : \", 10 in num.values())\n"
   ]
  },
  {
   "cell_type": "code",
   "execution_count": null,
   "id": "f4de7ac1-d376-4fea-924e-3e08e940b3eb",
   "metadata": {},
   "outputs": [],
   "source": []
  }
 ],
 "metadata": {
  "kernelspec": {
   "display_name": "Python 3 (ipykernel)",
   "language": "python",
   "name": "python3"
  },
  "language_info": {
   "codemirror_mode": {
    "name": "ipython",
    "version": 3
   },
   "file_extension": ".py",
   "mimetype": "text/x-python",
   "name": "python",
   "nbconvert_exporter": "python",
   "pygments_lexer": "ipython3",
   "version": "3.11.7"
  }
 },
 "nbformat": 4,
 "nbformat_minor": 5
}
